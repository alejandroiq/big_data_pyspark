{
 "cells": [
  {
   "cell_type": "markdown",
   "id": "6d19f856-a8b5-4ebd-b53b-ca7cb2489cb0",
   "metadata": {},
   "source": [
    "# Pyspark + Python 2\n",
    "\n",
    "Taiwanese financial company"
   ]
  },
  {
   "cell_type": "code",
   "execution_count": 1,
   "id": "ba4d0137-b4f2-470b-9c6e-d848a6be8505",
   "metadata": {},
   "outputs": [],
   "source": [
    "from pyspark import SparkContext\n",
    "from pyspark.sql import SparkSession"
   ]
  },
  {
   "cell_type": "code",
   "execution_count": 2,
   "id": "d2fb3f61-5fde-4d9b-8751-69339aa6ed38",
   "metadata": {},
   "outputs": [],
   "source": [
    "spark = SparkSession.builder.master('local').getOrCreate()"
   ]
  },
  {
   "cell_type": "code",
   "execution_count": 3,
   "id": "1834f2a3-abd7-4150-ba70-ccfe80e86d4b",
   "metadata": {},
   "outputs": [],
   "source": [
    "spark_df = spark.read.csv('credit_card_default.csv', header='true', inferSchema='true')"
   ]
  },
  {
   "cell_type": "code",
   "execution_count": 4,
   "id": "c61bd4fe-6855-47c6-91bd-716e30bc9e26",
   "metadata": {},
   "outputs": [
    {
     "data": {
      "text/plain": [
       "[Row(ID=1, LIMIT_BAL=20000, SEX=2, EDUCATION=2, MARRIAGE=1, AGE=24, PAY_0=2, PAY_2=2, PAY_3=-1, PAY_4=-1, PAY_5=-2, PAY_6=-2, BILL_AMT1=3913, BILL_AMT2=3102, BILL_AMT3=689, BILL_AMT4=0, BILL_AMT5=0, BILL_AMT6=0, PAY_AMT1=0, PAY_AMT2=689, PAY_AMT3=0, PAY_AMT4=0, PAY_AMT5=0, PAY_AMT6=0, default payment next month=1),\n",
       " Row(ID=2, LIMIT_BAL=120000, SEX=2, EDUCATION=2, MARRIAGE=2, AGE=26, PAY_0=-1, PAY_2=2, PAY_3=0, PAY_4=0, PAY_5=0, PAY_6=2, BILL_AMT1=2682, BILL_AMT2=1725, BILL_AMT3=2682, BILL_AMT4=3272, BILL_AMT5=3455, BILL_AMT6=3261, PAY_AMT1=0, PAY_AMT2=1000, PAY_AMT3=1000, PAY_AMT4=1000, PAY_AMT5=0, PAY_AMT6=2000, default payment next month=1),\n",
       " Row(ID=3, LIMIT_BAL=90000, SEX=2, EDUCATION=2, MARRIAGE=2, AGE=34, PAY_0=0, PAY_2=0, PAY_3=0, PAY_4=0, PAY_5=0, PAY_6=0, BILL_AMT1=29239, BILL_AMT2=14027, BILL_AMT3=13559, BILL_AMT4=14331, BILL_AMT5=14948, BILL_AMT6=15549, PAY_AMT1=1518, PAY_AMT2=1500, PAY_AMT3=1000, PAY_AMT4=1000, PAY_AMT5=1000, PAY_AMT6=5000, default payment next month=0),\n",
       " Row(ID=4, LIMIT_BAL=50000, SEX=2, EDUCATION=2, MARRIAGE=1, AGE=37, PAY_0=0, PAY_2=0, PAY_3=0, PAY_4=0, PAY_5=0, PAY_6=0, BILL_AMT1=46990, BILL_AMT2=48233, BILL_AMT3=49291, BILL_AMT4=28314, BILL_AMT5=28959, BILL_AMT6=29547, PAY_AMT1=2000, PAY_AMT2=2019, PAY_AMT3=1200, PAY_AMT4=1100, PAY_AMT5=1069, PAY_AMT6=1000, default payment next month=0),\n",
       " Row(ID=5, LIMIT_BAL=50000, SEX=1, EDUCATION=2, MARRIAGE=1, AGE=57, PAY_0=-1, PAY_2=0, PAY_3=-1, PAY_4=0, PAY_5=0, PAY_6=0, BILL_AMT1=8617, BILL_AMT2=5670, BILL_AMT3=35835, BILL_AMT4=20940, BILL_AMT5=19146, BILL_AMT6=19131, PAY_AMT1=2000, PAY_AMT2=36681, PAY_AMT3=10000, PAY_AMT4=9000, PAY_AMT5=689, PAY_AMT6=679, default payment next month=0)]"
      ]
     },
     "execution_count": 4,
     "metadata": {},
     "output_type": "execute_result"
    }
   ],
   "source": [
    "spark_df.take(5)"
   ]
  },
  {
   "cell_type": "code",
   "execution_count": 5,
   "id": "73100665-07a2-4d6e-a951-ef03197a35e1",
   "metadata": {},
   "outputs": [
    {
     "data": {
      "text/plain": [
       "['ID',\n",
       " 'LIMIT_BAL',\n",
       " 'SEX',\n",
       " 'EDUCATION',\n",
       " 'MARRIAGE',\n",
       " 'AGE',\n",
       " 'PAY_0',\n",
       " 'PAY_2',\n",
       " 'PAY_3',\n",
       " 'PAY_4',\n",
       " 'PAY_5',\n",
       " 'PAY_6',\n",
       " 'BILL_AMT1',\n",
       " 'BILL_AMT2',\n",
       " 'BILL_AMT3',\n",
       " 'BILL_AMT4',\n",
       " 'BILL_AMT5',\n",
       " 'BILL_AMT6',\n",
       " 'PAY_AMT1',\n",
       " 'PAY_AMT2',\n",
       " 'PAY_AMT3',\n",
       " 'PAY_AMT4',\n",
       " 'PAY_AMT5',\n",
       " 'PAY_AMT6',\n",
       " 'default payment next month']"
      ]
     },
     "execution_count": 5,
     "metadata": {},
     "output_type": "execute_result"
    }
   ],
   "source": [
    "# 1st option\n",
    "spark_df.columns"
   ]
  },
  {
   "cell_type": "code",
   "execution_count": 14,
   "id": "f27e4eb8-ff21-4c63-bb7d-b52ca7c09394",
   "metadata": {},
   "outputs": [
    {
     "name": "stdout",
     "output_type": "stream",
     "text": [
      "root\n",
      " |-- ID: integer (nullable = true)\n",
      " |-- LIMIT_BAL: integer (nullable = true)\n",
      " |-- SEX: integer (nullable = true)\n",
      " |-- EDUCATION: integer (nullable = true)\n",
      " |-- MARRIAGE: integer (nullable = true)\n",
      " |-- AGE: integer (nullable = true)\n",
      " |-- PAY_0: integer (nullable = true)\n",
      " |-- PAY_2: integer (nullable = true)\n",
      " |-- PAY_3: integer (nullable = true)\n",
      " |-- PAY_4: integer (nullable = true)\n",
      " |-- PAY_5: integer (nullable = true)\n",
      " |-- PAY_6: integer (nullable = true)\n",
      " |-- BILL_AMT1: integer (nullable = true)\n",
      " |-- BILL_AMT2: integer (nullable = true)\n",
      " |-- BILL_AMT3: integer (nullable = true)\n",
      " |-- BILL_AMT4: integer (nullable = true)\n",
      " |-- BILL_AMT5: integer (nullable = true)\n",
      " |-- BILL_AMT6: integer (nullable = true)\n",
      " |-- PAY_AMT1: integer (nullable = true)\n",
      " |-- PAY_AMT2: integer (nullable = true)\n",
      " |-- PAY_AMT3: integer (nullable = true)\n",
      " |-- PAY_AMT4: integer (nullable = true)\n",
      " |-- PAY_AMT5: integer (nullable = true)\n",
      " |-- PAY_AMT6: integer (nullable = true)\n",
      " |-- default payment next month: integer (nullable = true)\n",
      "\n"
     ]
    }
   ],
   "source": [
    "# 2nd option\n",
    "spark_df.printSchema()"
   ]
  },
  {
   "cell_type": "code",
   "execution_count": 17,
   "id": "a9a0b958-ba18-4278-8707-94d082ab454d",
   "metadata": {},
   "outputs": [
    {
     "name": "stdout",
     "output_type": "stream",
     "text": [
      "\n",
      "Distinct values in column: SEX\n",
      "+---+\n",
      "|SEX|\n",
      "+---+\n",
      "|  1|\n",
      "|  2|\n",
      "+---+\n",
      "\n",
      "\n",
      "Distinct values in column: EDUCATION\n",
      "+---------+\n",
      "|EDUCATION|\n",
      "+---------+\n",
      "|        0|\n",
      "|        1|\n",
      "|        2|\n",
      "|        3|\n",
      "|        4|\n",
      "|        5|\n",
      "|        6|\n",
      "+---------+\n",
      "\n",
      "\n",
      "Distinct values in column: MARRIAGE\n",
      "+--------+\n",
      "|MARRIAGE|\n",
      "+--------+\n",
      "|       0|\n",
      "|       1|\n",
      "|       2|\n",
      "|       3|\n",
      "+--------+\n",
      "\n",
      "\n",
      "Distinct values in column: default payment next month\n",
      "+--------------------------+\n",
      "|default payment next month|\n",
      "+--------------------------+\n",
      "|                         0|\n",
      "|                         1|\n",
      "+--------------------------+\n",
      "\n"
     ]
    }
   ],
   "source": [
    "categorical_columns = ['SEX', 'EDUCATION', 'MARRIAGE', 'default payment next month']\n",
    "\n",
    "for col in categorical_columns:\n",
    "    print(f\"\\nDistinct values in column: {col}\")\n",
    "    spark_df.select(col).distinct().orderBy(col).show()"
   ]
  },
  {
   "cell_type": "markdown",
   "id": "091be1a0-5da9-46e1-9d12-f4b16829dc38",
   "metadata": {},
   "source": [
    "## Barplots of EDUCATION and MARRIAGE"
   ]
  },
  {
   "cell_type": "code",
   "execution_count": 10,
   "id": "0a62ddd2-9396-4262-a6ff-740642176b1d",
   "metadata": {},
   "outputs": [
    {
     "data": {
      "text/plain": [
       "[Row(EDUCATION=1, count(EDUCATION)=10585),\n",
       " Row(EDUCATION=6, count(EDUCATION)=51),\n",
       " Row(EDUCATION=3, count(EDUCATION)=4917),\n",
       " Row(EDUCATION=5, count(EDUCATION)=280),\n",
       " Row(EDUCATION=4, count(EDUCATION)=123),\n",
       " Row(EDUCATION=2, count(EDUCATION)=14030),\n",
       " Row(EDUCATION=0, count(EDUCATION)=14)]"
      ]
     },
     "execution_count": 10,
     "metadata": {},
     "output_type": "execute_result"
    }
   ],
   "source": [
    "spark_df_edu = spark_df.groupBy('EDUCATION').agg({'EDUCATION': 'count'})\n",
    "spark_df_edu.collect()"
   ]
  },
  {
   "cell_type": "code",
   "execution_count": 12,
   "id": "d09dc639-1384-42ac-9cb2-8fef1f0039bb",
   "metadata": {},
   "outputs": [],
   "source": [
    "import pandas as pd"
   ]
  },
  {
   "cell_type": "code",
   "execution_count": 19,
   "id": "ec1010f7-c8f6-4de1-8381-f9185459869b",
   "metadata": {},
   "outputs": [
    {
     "name": "stdout",
     "output_type": "stream",
     "text": [
      "+---------+-----+\n",
      "|EDUCATION|count|\n",
      "+---------+-----+\n",
      "|        0|   14|\n",
      "|        1|10585|\n",
      "|        2|14030|\n",
      "|        3| 4917|\n",
      "|        4|  123|\n",
      "|        5|  280|\n",
      "|        6|   51|\n",
      "+---------+-----+\n",
      "\n"
     ]
    },
    {
     "data": {
      "image/png": "[encoded data removed]",
      "text/plain": [
       "<Figure size 640x480 with 1 Axes>"
      ]
     },
     "metadata": {},
     "output_type": "display_data"
    }
   ],
   "source": [
    "# Create bar plot of EDUCATION\n",
    "\n",
    "# First, aggregate data, i INCLDED ORDERBY EDUCATION\n",
    "education_cats = spark_df.groupBy('EDUCATION').count().orderBy('EDUCATION')\n",
    "education_cats.show()\n",
    "\n",
    "# Then plot data\n",
    "education_cats.toPandas().plot(x=\"EDUCATION\", y=\"count\", kind=\"bar\", rot=0);"
   ]
  },
  {
   "cell_type": "code",
   "execution_count": 26,
   "id": "deb39d2c-5bd2-4de3-a842-4516966cb3fb",
   "metadata": {},
   "outputs": [],
   "source": [
    "from pyspark.sql.functions import when, col"
   ]
  },
  {
   "cell_type": "code",
   "execution_count": 36,
   "id": "2055996d-38c0-4fe6-a3ad-b121a963fc4c",
   "metadata": {},
   "outputs": [
    {
     "name": "stdout",
     "output_type": "stream",
     "text": [
      "+-----------+-----+\n",
      "|  EDUCATION|count|\n",
      "+-----------+-----+\n",
      "|      Other|   14|\n",
      "|   Graduate|10585|\n",
      "|    College|14030|\n",
      "|High School| 4917|\n",
      "|      Other|  123|\n",
      "|      Other|  280|\n",
      "|      Other|   51|\n",
      "+-----------+-----+\n",
      "\n"
     ]
    }
   ],
   "source": [
    "education_cats_labeled = education_cats.select(\n",
    "    when(col(\"EDUCATION\") == 1, \"Graduate\")\n",
    "    .when(col(\"EDUCATION\") == 2, \"College\")\n",
    "    .when(col(\"EDUCATION\") == 3, \"High School\")\n",
    "    .when(col(\"EDUCATION\") == 4, \"Other\")\n",
    "    #.when(col(\"EDUCATION\") == 5, \"5\")\n",
    "    #.when(col(\"EDUCATION\") == 6, \"6\")\n",
    "    #.when(col(\"EDUCATION\") == 0, \"0\")\n",
    "    .otherwise(\"Other\")\n",
    "    .alias(\"EDUCATION\"),\n",
    "    col(\"count\")\n",
    ")\n",
    "\n",
    "education_cats_labeled.show()"
   ]
  },
  {
   "cell_type": "code",
   "execution_count": 37,
   "id": "d2b54860-41fb-4e58-99e2-12954a1c79f9",
   "metadata": {},
   "outputs": [],
   "source": [
    "from pyspark.sql import functions as F"
   ]
  },
  {
   "cell_type": "code",
   "execution_count": 38,
   "id": "8af575d0-e49a-4735-98ce-f0321d355864",
   "metadata": {},
   "outputs": [],
   "source": [
    "# Merging Option\n",
    "education_labeled = education_cats.select(\n",
    "    F.when(F.col(\"EDUCATION\") == 1, \"Graduate\")\n",
    "     .when(F.col(\"EDUCATION\") == 2, \"College\")\n",
    "     .when(F.col(\"EDUCATION\") == 3, \"High School\")\n",
    "     .otherwise(\"Other\")\n",
    "     .alias(\"EDUCATION\"),\n",
    "    F.col(\"count\")\n",
    ")"
   ]
  },
  {
   "cell_type": "code",
   "execution_count": 39,
   "id": "75a17ffd-f905-4df5-906e-6c86d9d2bba2",
   "metadata": {},
   "outputs": [],
   "source": [
    "# Step 3: Group again to merge \"Other\" values into one row\n",
    "education_binned = education_labeled.groupBy(\"EDUCATION\").agg(F.sum(\"count\").alias(\"count\")).orderBy(\"EDUCATION\")"
   ]
  },
  {
   "cell_type": "code",
   "execution_count": 40,
   "id": "d7d48cb2-3dea-4ab5-86ed-f0ded6a8d87d",
   "metadata": {},
   "outputs": [
    {
     "name": "stdout",
     "output_type": "stream",
     "text": [
      "+-----------+-----+\n",
      "|  EDUCATION|count|\n",
      "+-----------+-----+\n",
      "|    College|14030|\n",
      "|   Graduate|10585|\n",
      "|High School| 4917|\n",
      "|      Other|  468|\n",
      "+-----------+-----+\n",
      "\n"
     ]
    }
   ],
   "source": [
    "# Step 4: Display final result\n",
    "education_binned.show()"
   ]
  },
  {
   "cell_type": "code",
   "execution_count": 41,
   "id": "e70a1c8d-e442-4b8c-b69b-879f5374df4e",
   "metadata": {},
   "outputs": [
    {
     "data": {
      "text/plain": [
       "<Axes: xlabel='EDUCATION'>"
      ]
     },
     "execution_count": 41,
     "metadata": {},
     "output_type": "execute_result"
    },
    {
     "data": {
      "image/png": "[encoded data removed]",
      "text/plain": [
       "<Figure size 640x480 with 1 Axes>"
      ]
     },
     "metadata": {},
     "output_type": "display_data"
    }
   ],
   "source": [
    "education_binned.toPandas().plot(x=\"EDUCATION\", y=\"count\", kind=\"bar\", rot=0)"
   ]
  },
  {
   "cell_type": "markdown",
   "id": "55ff9c9f-347d-424b-bf53-645d1b6630bf",
   "metadata": {},
   "source": [
    "### Barcharts for (non-)defaults"
   ]
  },
  {
   "cell_type": "code",
   "execution_count": 47,
   "id": "97e1f741-deec-446e-9af1-8736f4cac3b2",
   "metadata": {},
   "outputs": [
    {
     "name": "stdout",
     "output_type": "stream",
     "text": [
      "+--------------------------+-----+\n",
      "|default payment next month|count|\n",
      "+--------------------------+-----+\n",
      "|                         0|23364|\n",
      "|                         1| 6636|\n",
      "+--------------------------+-----+\n",
      "\n"
     ]
    }
   ],
   "source": [
    "default = spark_df.groupBy('default payment next month').count().orderBy('default payment next month')\n",
    "default.show()"
   ]
  },
  {
   "cell_type": "code",
   "execution_count": 48,
   "id": "b454f177-a1fe-439b-8072-90bf42187d15",
   "metadata": {},
   "outputs": [
    {
     "name": "stdout",
     "output_type": "stream",
     "text": [
      "+--------------------------+-----+\n",
      "|default payment next month|count|\n",
      "+--------------------------+-----+\n",
      "|                  defaults|23364|\n",
      "|              non-defaults| 6636|\n",
      "+--------------------------+-----+\n",
      "\n"
     ]
    }
   ],
   "source": [
    "# Labels\n",
    "\n",
    "default_labeled = default.select(\n",
    "    when(col(\"default payment next month\") == 1, \"non-defaults\")\n",
    "    .otherwise(\"defaults\")\n",
    "    .alias(\"default payment next month\"),\n",
    "    F.col(\"count\")\n",
    ")\n",
    "\n",
    "default_labeled.show()"
   ]
  },
  {
   "cell_type": "code",
   "execution_count": 51,
   "id": "bf823267-acb4-455a-a25a-01a9304f82d8",
   "metadata": {},
   "outputs": [
    {
     "name": "stdout",
     "output_type": "stream",
     "text": [
      "+--------------------------+-----+\n",
      "|default payment next month|count|\n",
      "+--------------------------+-----+\n",
      "|              non-defaults| 6636|\n",
      "|                  defaults|23364|\n",
      "+--------------------------+-----+\n",
      "\n"
     ]
    }
   ],
   "source": [
    "default_binned = default_labeled.groupBy(\"default payment next month\").agg(F.sum(\"count\").alias(\"count\"))\n",
    "default_binned.show()"
   ]
  },
  {
   "cell_type": "code",
   "execution_count": 53,
   "id": "535070f6-b829-469a-87b8-23a8cc71ab6a",
   "metadata": {},
   "outputs": [
    {
     "data": {
      "text/plain": [
       "<Axes: xlabel='default payment next month'>"
      ]
     },
     "execution_count": 53,
     "metadata": {},
     "output_type": "execute_result"
    },
    {
     "data": {
      "image/png": "[encoded data removed]",
      "text/plain": [
       "<Figure size 640x480 with 1 Axes>"
      ]
     },
     "metadata": {},
     "output_type": "display_data"
    }
   ],
   "source": [
    "default_binned.toPandas().plot(x=\"default payment next month\", y=\"count\", kind=\"bar\", rot=0)"
   ]
  },
  {
   "cell_type": "markdown",
   "id": "4841b313-a918-42c6-b2b0-03cb5fe1332f",
   "metadata": {},
   "source": [
    "### Barcharts for (non-)defaults & SEX"
   ]
  },
  {
   "cell_type": "code",
   "execution_count": 57,
   "id": "6246ad9a-dc61-446e-8431-f2bb8cba496c",
   "metadata": {},
   "outputs": [
    {
     "name": "stdout",
     "output_type": "stream",
     "text": [
      "root\n",
      " |-- default payment next month: string (nullable = false)\n",
      " |-- count: long (nullable = false)\n",
      "\n"
     ]
    }
   ],
   "source": [
    "s.printSchema()"
   ]
  },
  {
   "cell_type": "code",
   "execution_count": null,
   "id": "67099d47-8193-41f6-93e4-96164ba21ae0",
   "metadata": {},
   "outputs": [],
   "source": [
    "default = spark_df.groupBy('default payment next month').count().orderBy('default payment next month')\n",
    "default.show()"
   ]
  },
  {
   "cell_type": "code",
   "execution_count": 59,
   "id": "b0bc0433-c09a-4ba0-93dc-0e0bb3c4a772",
   "metadata": {},
   "outputs": [
    {
     "name": "stdout",
     "output_type": "stream",
     "text": [
      "+---+--------------------------+-----+\n",
      "|SEX|default payment next month|count|\n",
      "+---+--------------------------+-----+\n",
      "|  1|                         0| 9015|\n",
      "|  1|                         1| 2873|\n",
      "|  2|                         1| 3763|\n",
      "|  2|                         0|14349|\n",
      "+---+--------------------------+-----+\n",
      "\n"
     ]
    }
   ],
   "source": [
    "default_sex = spark_df.groupBy(\"SEX\", \"default payment next month\").count()\n",
    "default_sex.show()"
   ]
  },
  {
   "cell_type": "code",
   "execution_count": 67,
   "id": "085a3703-2aea-4eb0-806c-52d671301041",
   "metadata": {},
   "outputs": [
    {
     "name": "stdout",
     "output_type": "stream",
     "text": [
      "+--------------------------+----------+-----+\n",
      "|default payment NEXT month|Client SEX|count|\n",
      "+--------------------------+----------+-----+\n",
      "|                  defaults|      Male| 9015|\n",
      "|              non-defaults|      Male| 2873|\n",
      "|              non-defaults|    Female| 3763|\n",
      "|                  defaults|    Female|14349|\n",
      "+--------------------------+----------+-----+\n",
      "\n"
     ]
    }
   ],
   "source": [
    "# Labels\n",
    "default_sex_labeled = default_sex.select(\n",
    "    when(col(\"default payment next month\") == 1, \"non-defaults\")\n",
    "    .otherwise(\"defaults\")\n",
    "    .alias(\"default payment NEXT month\"),\n",
    "    when(col(\"SEX\") == 1, \"Male\")\n",
    "    .otherwise(\"Female\")\n",
    "    .alias(\"Client SEX\"),\n",
    "    F.col(\"count\")\n",
    ")\n",
    "\n",
    "default_sex_labeled.show()"
   ]
  },
  {
   "cell_type": "code",
   "execution_count": 70,
   "id": "b9e536fc-e8de-4f08-9487-105bffae34ab",
   "metadata": {},
   "outputs": [
    {
     "name": "stdout",
     "output_type": "stream",
     "text": [
      "+--------------------------+----------+-----+\n",
      "|default payment NEXT month|Client SEX|count|\n",
      "+--------------------------+----------+-----+\n",
      "|              non-defaults|    Female| 3763|\n",
      "|                  defaults|      Male| 9015|\n",
      "|              non-defaults|      Male| 2873|\n",
      "|                  defaults|    Female|14349|\n",
      "+--------------------------+----------+-----+\n",
      "\n"
     ]
    }
   ],
   "source": [
    "default_sex_binned = default_sex_labeled.groupBy(\"default payment NEXT month\", 'Client SEX').agg(F.sum(\"count\").alias(\"count\"))\n",
    "default_sex_binned.show()"
   ]
  },
  {
   "cell_type": "code",
   "execution_count": 73,
   "id": "a02ef4f4-9451-455b-86c3-c1d338f01b75",
   "metadata": {},
   "outputs": [
    {
     "data": {
      "text/plain": [
       "<Axes: xlabel='Client SEX'>"
      ]
     },
     "execution_count": 73,
     "metadata": {},
     "output_type": "execute_result"
    },
    {
     "data": {
      "image/png": "[encoded data removed]",
      "text/plain": [
       "<Figure size 640x480 with 1 Axes>"
      ]
     },
     "metadata": {},
     "output_type": "display_data"
    }
   ],
   "source": [
    "default_sex_labeled.toPandas().pivot(index=\"Client SEX\", columns=\"default payment NEXT month\", values=\"count\").plot(kind=\"bar\", rot=0)"
   ]
  },
  {
   "cell_type": "code",
   "execution_count": 76,
   "id": "202eeeb5-782b-4850-885e-82949fc20ae5",
   "metadata": {},
   "outputs": [
    {
     "data": {
      "text/plain": [
       "<Axes: xlabel='Client SEX'>"
      ]
     },
     "execution_count": 76,
     "metadata": {},
     "output_type": "execute_result"
    },
    {
     "data": {
      "image/png": "[encoded data removed]",
      "text/plain": [
       "<Figure size 640x480 with 1 Axes>"
      ]
     },
     "metadata": {},
     "output_type": "display_data"
    }
   ],
   "source": [
    "default_sex_binned.toPandas().pivot(index=\"Client SEX\", columns=\"default payment NEXT month\", values=\"count\").plot(kind=\"bar\", rot=0)"
   ]
  },
  {
   "cell_type": "code",
   "execution_count": null,
   "id": "aa8fd76d-916f-48ba-b154-14c731db46c8",
   "metadata": {},
   "outputs": [],
   "source": []
  }
 ],
 "metadata": {
  "kernelspec": {
   "display_name": "Python 3 (ipykernel)",
   "language": "python",
   "name": "python3"
  },
  "language_info": {
   "codemirror_mode": {
    "name": "ipython",
    "version": 3
   },
   "file_extension": ".py",
   "mimetype": "text/x-python",
   "name": "python",
   "nbconvert_exporter": "python",
   "pygments_lexer": "ipython3",
   "version": "3.11.6"
  }
 },
 "nbformat": 4,
 "nbformat_minor": 5
}
