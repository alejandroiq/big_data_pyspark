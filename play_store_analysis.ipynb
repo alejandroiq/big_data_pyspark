{
 "cells": [
  {
   "cell_type": "markdown",
   "metadata": {},
   "source": [
    "![display relevant image here](path/url/to/image)\n",
    "- Banner/header image\n",
    "\n",
    "# Title\n",
    "- Relevant to Data and Business Context\n",
    "\n",
    "## Overview\n",
    "- BLUF (Bottom Line Up Front)\n",
    "- One paragraph summary of findings and analysis\n",
    "- Frame your 'story'"
   ]
  },
  {
   "cell_type": "markdown",
   "metadata": {},
   "source": [
    "## Business Understanding\n",
    "- Set the stage for analysis\n",
    "- Why are these findings relevant/important?\n",
    "- Introduce stakeholders\n",
    "- Postulate about questions you want to ask/answer"
   ]
  },
  {
   "cell_type": "markdown",
   "metadata": {},
   "source": [
    "## Data Understanding\n",
    "- Present the source of data\n",
    "- Describe the data available\n",
    "- What is relevant to keep what is not\n",
    "- Present any data cleaning that needs to happen\n",
    "- Null values? Type mismatches? Duplicates?"
   ]
  },
  {
   "cell_type": "markdown",
   "metadata": {},
   "source": [
    "### Project Initialization and Data Acquisition"
   ]
  },
  {
   "cell_type": "code",
   "execution_count": 1,
   "metadata": {},
   "outputs": [],
   "source": [
    "# Imports\n",
    "from pyspark.sql import SparkSession\n",
    "from pyspark.sql import functions as F\n",
    "from pyspark.sql.functions import when, regexp_replace, col, trim, lower, split"
   ]
  },
  {
   "cell_type": "code",
   "execution_count": 2,
   "metadata": {
    "vscode": {
     "languageId": "plaintext"
    }
   },
   "outputs": [],
   "source": [
    "spark = SparkSession.builder \\\n",
    "    .appName(\"Google PlayStore App Analysis\") \\\n",
    "    .master(\"local[*]\") \\\n",
    "    .getOrCreate()"
   ]
  },
  {
   "cell_type": "code",
   "execution_count": 3,
   "metadata": {},
   "outputs": [
    {
     "name": "stdout",
     "output_type": "stream",
     "text": [
      "+--------------------+--------------+------+-------+----+-----------+----+-----+--------------+--------------------+----------------+------------------+------------+\n",
      "|                 App|      Category|Rating|Reviews|Size|   Installs|Type|Price|Content Rating|              Genres|    Last Updated|       Current Ver| Android Ver|\n",
      "+--------------------+--------------+------+-------+----+-----------+----+-----+--------------+--------------------+----------------+------------------+------------+\n",
      "|Photo Editor & Ca...|ART_AND_DESIGN|   4.1|    159| 19M|    10,000+|Free|    0|      Everyone|        Art & Design| January 7, 2018|             1.0.0|4.0.3 and up|\n",
      "| Coloring book moana|ART_AND_DESIGN|   3.9|    967| 14M|   500,000+|Free|    0|      Everyone|Art & Design;Pret...|January 15, 2018|             2.0.0|4.0.3 and up|\n",
      "|U Launcher Lite –...|ART_AND_DESIGN|   4.7|  87510|8.7M| 5,000,000+|Free|    0|      Everyone|        Art & Design|  August 1, 2018|             1.2.4|4.0.3 and up|\n",
      "|Sketch - Draw & P...|ART_AND_DESIGN|   4.5| 215644| 25M|50,000,000+|Free|    0|          Teen|        Art & Design|    June 8, 2018|Varies with device|  4.2 and up|\n",
      "|Pixel Draw - Numb...|ART_AND_DESIGN|   4.3|    967|2.8M|   100,000+|Free|    0|      Everyone|Art & Design;Crea...|   June 20, 2018|               1.1|  4.4 and up|\n",
      "+--------------------+--------------+------+-------+----+-----------+----+-----+--------------+--------------------+----------------+------------------+------------+\n",
      "only showing top 5 rows\n",
      "\n"
     ]
    }
   ],
   "source": [
    "df = spark.read.csv(\"google_play_store_dataset.csv\", header=True, inferSchema=True)\n",
    "\n",
    "# 1st validation\n",
    "df.show(5) "
   ]
  },
  {
   "cell_type": "code",
   "execution_count": 4,
   "metadata": {},
   "outputs": [
    {
     "name": "stdout",
     "output_type": "stream",
     "text": [
      "root\n",
      " |-- App: string (nullable = true)\n",
      " |-- Category: string (nullable = true)\n",
      " |-- Rating: string (nullable = true)\n",
      " |-- Reviews: string (nullable = true)\n",
      " |-- Size: string (nullable = true)\n",
      " |-- Installs: string (nullable = true)\n",
      " |-- Type: string (nullable = true)\n",
      " |-- Price: string (nullable = true)\n",
      " |-- Content Rating: string (nullable = true)\n",
      " |-- Genres: string (nullable = true)\n",
      " |-- Last Updated: string (nullable = true)\n",
      " |-- Current Ver: string (nullable = true)\n",
      " |-- Android Ver: string (nullable = true)\n",
      "\n"
     ]
    }
   ],
   "source": [
    "# 2nd validation\n",
    "df.printSchema()"
   ]
  },
  {
   "cell_type": "markdown",
   "metadata": {},
   "source": [
    "<div style=\"background-color:#fff5e6; padding:15px; border-radius:8px\">\n",
    "No prompts used in data understanding, everything was taken from practices M3 and M4"
   ]
  },
  {
   "cell_type": "markdown",
   "metadata": {},
   "source": [
    "### Bussiness Questions / Business Context Development"
   ]
  },
  {
   "cell_type": "markdown",
   "metadata": {},
   "source": [
    "1) Is there a relationship between app size and rating?\n",
    "2) Can we identify underperforming categories (low installs, low ratings)?\n",
    "3) What genres tend to perform better in terms of user engagement (ratings)?"
   ]
  },
  {
   "cell_type": "markdown",
   "metadata": {},
   "source": [
    "In alignment with the structured approach to question development and analysis planning, I selected three progressively complex questions that focus on uncovering key performance drivers within the Google Play Store dataset:\n",
    "\n",
    "Is there a relationship between app size and rating?\n",
    "This question explores a potential correlation between app technical characteristics and user satisfaction. It serves as a foundational analysis to identify whether larger or smaller apps tend to be rated higher by users.\n",
    "\n",
    "Can we identify underperforming categories (low installs, low ratings)?\n",
    "This diagnostic question aims to detect categories that may be underdelivering on both popularity and quality, helping stakeholders target improvement or resource reallocation efforts.\n",
    "\n",
    "What genres tend to perform better in terms of user engagement (ratings)?\n",
    "By evaluating user engagement across different genres, this question supports strategic decisions around app development and marketing focus, offering insights into content types that resonate most with users.\n",
    "\n",
    "Each question was selected to balance analytical depth with actionable business insights, and mapped to available data attributes such as Rating, Size, Category, Installs, and Genres. Together, they represent a thoughtful progression from exploratory correlation analysis to strategic performance evaluation."
   ]
  },
  {
   "cell_type": "markdown",
   "metadata": {},
   "source": [
    "### Data Discovery and Understanding / EDA "
   ]
  },
  {
   "cell_type": "markdown",
   "metadata": {},
   "source": [
    "#### Statistical Analysis"
   ]
  },
  {
   "cell_type": "code",
   "execution_count": 5,
   "metadata": {},
   "outputs": [
    {
     "name": "stdout",
     "output_type": "stream",
     "text": [
      "+-------+--------------------+-------------+-----------+-----------------+------------------+------------------+-----+------------------+--------------+------+-----------------+-------------+------------------+\n",
      "|summary|                 App|     Category|     Rating|          Reviews|              Size|          Installs| Type|             Price|Content Rating|Genres|     Last Updated|  Current Ver|       Android Ver|\n",
      "+-------+--------------------+-------------+-----------+-----------------+------------------+------------------+-----+------------------+--------------+------+-----------------+-------------+------------------+\n",
      "|  count|               10841|        10841|      10841|            10841|             10841|             10841|10841|             10841|         10840| 10841|            10841|        10840|             10840|\n",
      "|   mean|                NULL|          1.9|        NaN|444225.1924709356|              NULL| 2.866666666666667|  NaN|               0.0|          NULL|  NULL|              0.0|          NaN|               NaN|\n",
      "| stddev|                NULL|         NULL|        NaN|2928025.838407947|              NULL|2.4846193538112304|  NaN|               0.0|          NULL|  NULL|              0.0|          NaN|               NaN|\n",
      "|    min|\"\"\"i DT\"\" Fútbol....| traffic jams| navigation|          camera\"|            1,000+|                 0|    0|             $0.99|    1,000,000+|Action|                0|      0.0.0.2|        1.0 and up|\n",
      "|    max|🔥 Football Wallp...|      WEATHER|        NaN|    weight lose)\"|Varies with device|              Free| Paid|Varies with device|       Unrated|  Word|September 9, 2017|version 0.994|Varies with device|\n",
      "+-------+--------------------+-------------+-----------+-----------------+------------------+------------------+-----+------------------+--------------+------+-----------------+-------------+------------------+\n",
      "\n"
     ]
    }
   ],
   "source": [
    "# Descriptive stats\n",
    "df.describe().show()"
   ]
  },
  {
   "cell_type": "code",
   "execution_count": 6,
   "metadata": {},
   "outputs": [
    {
     "name": "stdout",
     "output_type": "stream",
     "text": [
      "+-------------------+-----+\n",
      "|           Category|count|\n",
      "+-------------------+-----+\n",
      "|             FAMILY| 1972|\n",
      "|               GAME| 1144|\n",
      "|              TOOLS|  843|\n",
      "|            MEDICAL|  463|\n",
      "|           BUSINESS|  460|\n",
      "|       PRODUCTIVITY|  424|\n",
      "|    PERSONALIZATION|  392|\n",
      "|      COMMUNICATION|  387|\n",
      "|             SPORTS|  384|\n",
      "|          LIFESTYLE|  382|\n",
      "|            FINANCE|  366|\n",
      "| HEALTH_AND_FITNESS|  340|\n",
      "|        PHOTOGRAPHY|  335|\n",
      "|             SOCIAL|  295|\n",
      "| NEWS_AND_MAGAZINES|  283|\n",
      "|           SHOPPING|  260|\n",
      "|   TRAVEL_AND_LOCAL|  258|\n",
      "|             DATING|  234|\n",
      "|BOOKS_AND_REFERENCE|  231|\n",
      "|      VIDEO_PLAYERS|  175|\n",
      "+-------------------+-----+\n",
      "only showing top 20 rows\n",
      "\n"
     ]
    }
   ],
   "source": [
    "df.groupBy(\"Category\").count().orderBy(\"count\", ascending=False).show()"
   ]
  },
  {
   "cell_type": "code",
   "execution_count": 7,
   "metadata": {},
   "outputs": [
    {
     "name": "stdout",
     "output_type": "stream",
     "text": [
      "+---------------+-----+\n",
      "| Content Rating|count|\n",
      "+---------------+-----+\n",
      "|       Everyone| 8713|\n",
      "|           Teen| 1208|\n",
      "|     Mature 17+|  498|\n",
      "|   Everyone 10+|  414|\n",
      "|Adults only 18+|    3|\n",
      "|        Unrated|    2|\n",
      "|     5,000,000+|    1|\n",
      "|           NULL|    1|\n",
      "|     1,000,000+|    1|\n",
      "+---------------+-----+\n",
      "\n"
     ]
    }
   ],
   "source": [
    "df.groupBy(\"Content Rating\").count().orderBy(\"count\", ascending=False).show()"
   ]
  },
  {
   "cell_type": "code",
   "execution_count": 8,
   "metadata": {},
   "outputs": [
    {
     "name": "stdout",
     "output_type": "stream",
     "text": [
      "+-----------------+-----+\n",
      "|           Genres|count|\n",
      "+-----------------+-----+\n",
      "|            Tools|  842|\n",
      "|    Entertainment|  623|\n",
      "|        Education|  549|\n",
      "|          Medical|  463|\n",
      "|         Business|  460|\n",
      "|     Productivity|  424|\n",
      "|           Sports|  398|\n",
      "|  Personalization|  392|\n",
      "|    Communication|  387|\n",
      "|        Lifestyle|  381|\n",
      "|          Finance|  366|\n",
      "|           Action|  365|\n",
      "| Health & Fitness|  340|\n",
      "|      Photography|  335|\n",
      "|           Social|  295|\n",
      "| News & Magazines|  283|\n",
      "|         Shopping|  260|\n",
      "|   Travel & Local|  257|\n",
      "|           Dating|  234|\n",
      "|Books & Reference|  231|\n",
      "+-----------------+-----+\n",
      "only showing top 20 rows\n",
      "\n"
     ]
    }
   ],
   "source": [
    "df.groupBy(\"Genres\").count().orderBy(\"count\", ascending=False).show()"
   ]
  },
  {
   "cell_type": "code",
   "execution_count": 9,
   "metadata": {},
   "outputs": [
    {
     "data": {
      "text/plain": [
       "10841"
      ]
     },
     "execution_count": 9,
     "metadata": {},
     "output_type": "execute_result"
    }
   ],
   "source": [
    "df.count()"
   ]
  },
  {
   "cell_type": "code",
   "execution_count": 10,
   "metadata": {},
   "outputs": [
    {
     "name": "stdout",
     "output_type": "stream",
     "text": [
      "+-------+-----------+\n",
      "|summary|     Rating|\n",
      "+-------+-----------+\n",
      "|    min| navigation|\n",
      "|    25%|        4.1|\n",
      "|    50%|        4.4|\n",
      "|    75%|        4.6|\n",
      "|    max|        NaN|\n",
      "+-------+-----------+\n",
      "\n"
     ]
    }
   ],
   "source": [
    "# Outliers - I cannot chack outliers until I don't transform the data to numbers\n",
    "\n",
    "df.select(\"Rating\").summary(\"min\", \"25%\", \"50%\", \"75%\", \"max\").show()"
   ]
  },
  {
   "cell_type": "markdown",
   "metadata": {},
   "source": [
    "#### Data Quality Assessment"
   ]
  },
  {
   "cell_type": "code",
   "execution_count": 11,
   "metadata": {},
   "outputs": [
    {
     "name": "stdout",
     "output_type": "stream",
     "text": [
      "root\n",
      " |-- App: string (nullable = true)\n",
      " |-- Category: string (nullable = true)\n",
      " |-- Rating: string (nullable = true)\n",
      " |-- Reviews: string (nullable = true)\n",
      " |-- Size: string (nullable = true)\n",
      " |-- Installs: string (nullable = true)\n",
      " |-- Type: string (nullable = true)\n",
      " |-- Price: string (nullable = true)\n",
      " |-- Content Rating: string (nullable = true)\n",
      " |-- Genres: string (nullable = true)\n",
      " |-- Last Updated: string (nullable = true)\n",
      " |-- Current Ver: string (nullable = true)\n",
      " |-- Android Ver: string (nullable = true)\n",
      "\n"
     ]
    }
   ],
   "source": [
    "df.printSchema()"
   ]
  },
  {
   "cell_type": "code",
   "execution_count": 12,
   "metadata": {},
   "outputs": [
    {
     "name": "stdout",
     "output_type": "stream",
     "text": [
      "+---+--------+------+-------+----+--------+----+-----+--------------+------+------------+-----------+-----------+\n",
      "|App|Category|Rating|Reviews|Size|Installs|Type|Price|Content Rating|Genres|Last Updated|Current Ver|Android Ver|\n",
      "+---+--------+------+-------+----+--------+----+-----+--------------+------+------------+-----------+-----------+\n",
      "|  0|       0|     0|      0|   0|       0|   0|    0|             1|     0|           0|          1|          1|\n",
      "+---+--------+------+-------+----+--------+----+-----+--------------+------+------------+-----------+-----------+\n",
      "\n"
     ]
    }
   ],
   "source": [
    "# Null values per column\n",
    "df.select([F.count(F.when(F.col(c).isNull(), c)).alias(c) for c in df.columns]).show()"
   ]
  },
  {
   "cell_type": "code",
   "execution_count": 13,
   "metadata": {},
   "outputs": [
    {
     "name": "stdout",
     "output_type": "stream",
     "text": [
      "+--------------------+------------------+------+-------+------------------+------------+----+-----+--------------+--------------------+----------------+------------------+------------------+-----+\n",
      "|                 App|          Category|Rating|Reviews|              Size|    Installs|Type|Price|Content Rating|              Genres|    Last Updated|       Current Ver|       Android Ver|count|\n",
      "+--------------------+------------------+------+-------+------------------+------------+----+-----+--------------+--------------------+----------------+------------------+------------------+-----+\n",
      "|Viki: Asian TV Dr...|     ENTERTAINMENT|   4.3| 407719|Varies with device| 10,000,000+|Free|    0|          Teen|       Entertainment|   July 27, 2018|Varies with device|Varies with device|    2|\n",
      "|          Bowmasters|              GAME|   4.7|1535973|Varies with device| 50,000,000+|Free|    0|          Teen|              Action|   July 23, 2018|            2.12.5|        4.1 and up|    2|\n",
      "|   School of Dragons|            FAMILY|   4.1| 530792|Varies with device| 10,000,000+|Free|    0|      Everyone|Role Playing;Acti...|    May 30, 2018|Varies with device|Varies with device|    2|\n",
      "|CBS Sports App - ...|            SPORTS|   4.3|  91031|Varies with device|  5,000,000+|Free|    0|      Everyone|              Sports|  August 4, 2018|Varies with device|        5.0 and up|    4|\n",
      "|      Kick the Buddy|              GAME|   4.3|1000417|Varies with device| 50,000,000+|Free|    0|          Teen|              Action|    July 5, 2018|Varies with device|        4.4 and up|    2|\n",
      "|      Teladoc Member|           MEDICAL|   4.0|   2094|               23M|    500,000+|Free|    0|      Everyone|             Medical|   July 26, 2018|              3.19|        4.3 and up|    2|\n",
      "|            Zenefits|          BUSINESS|   4.2|    296|               14M|     50,000+|Free|    0|      Everyone|            Business|   June 15, 2018|             3.2.1|        4.1 and up|    2|\n",
      "|                Nick|     ENTERTAINMENT|   4.2| 123279|               25M| 10,000,000+|Free|    0|  Everyone 10+|Entertainment;Mus...|January 24, 2018|             2.0.8|        4.4 and up|    4|\n",
      "|Robinhood - Inves...|           FINANCE|   4.6|  57493|Varies with device|  1,000,000+|Free|    0|      Everyone|             Finance|   July 31, 2018|Varies with device|Varies with device|    2|\n",
      "|Daily Yoga - Yoga...|HEALTH_AND_FITNESS|   4.4|  70769|               35M|  5,000,000+|Free|    0|      Everyone|    Health & Fitness|   July 24, 2018|            6.2.73|        4.0 and up|    3|\n",
      "| SnipSnap Coupon App|          SHOPPING|   4.2|   9975|               18M|  1,000,000+|Free|    0|      Everyone|            Shopping|January 22, 2018|               1.4|        4.3 and up|    2|\n",
      "|Crunchyroll - Eve...|     ENTERTAINMENT|   3.7| 310066|Varies with device| 10,000,000+|Free|    0|          Teen|       Entertainment|   March 5, 2018|Varies with device|Varies with device|    2|\n",
      "|Modcloth – Unique...|          SHOPPING|   4.2|   5121|              8.8M|    500,000+|Free|    0|      Everyone|            Shopping|   July 13, 2018|            9.0.30|        4.1 and up|    2|\n",
      "|HotelTonight: Boo...|  TRAVEL_AND_LOCAL|   4.4|  57573|Varies with device|  5,000,000+|Free|    0|      Everyone|      Travel & Local|   July 31, 2018|Varies with device|Varies with device|    2|\n",
      "|              O-Star|            DATING|   4.4|     59|               38M|      5,000+|Free|    0|      Everyone|              Dating|   July 19, 2018|             1.0.1|        4.3 and up|    3|\n",
      "|Booking.com Trave...|  TRAVEL_AND_LOCAL|   4.7|1830388|Varies with device|100,000,000+|Free|    0|      Everyone|      Travel & Local|  August 6, 2018|Varies with device|Varies with device|    2|\n",
      "|JH Blood Pressure...|           MEDICAL|   3.7|      9|              2.9M|        500+|Free|    0|      Everyone|             Medical|   July 21, 2018|               1.1|      4.0.3 and up|    2|\n",
      "|Shopkick: Free Gi...|          SHOPPING|   4.3| 213735|               43M| 10,000,000+|Free|    0|      Everyone|            Shopping|   July 24, 2018|            5.3.73|        4.4 and up|    2|\n",
      "|Babbel – Learn La...|         EDUCATION|   4.3| 266948|               21M| 10,000,000+|Free|    0|      Everyone|           Education|   July 30, 2018|            20.7.2|        4.4 and up|    2|\n",
      "|        Temple Run 2|              GAME|   4.3|8118937|               62M|500,000,000+|Free|    0|      Everyone|              Action|    July 5, 2018|            1.49.1|        4.0 and up|    2|\n",
      "+--------------------+------------------+------+-------+------------------+------------+----+-----+--------------+--------------------+----------------+------------------+------------------+-----+\n",
      "only showing top 20 rows\n",
      "\n"
     ]
    }
   ],
   "source": [
    "# Duplicate rows\n",
    "df.groupBy(df.columns).count().filter(\"count > 1\").show()"
   ]
  },
  {
   "cell_type": "code",
   "execution_count": 14,
   "metadata": {},
   "outputs": [
    {
     "name": "stdout",
     "output_type": "stream",
     "text": [
      "+-----+\n",
      "|count|\n",
      "+-----+\n",
      "|    2|\n",
      "|    2|\n",
      "|    2|\n",
      "|    4|\n",
      "|    2|\n",
      "|    2|\n",
      "|    2|\n",
      "|    4|\n",
      "|    2|\n",
      "|    3|\n",
      "|    2|\n",
      "|    2|\n",
      "|    2|\n",
      "|    2|\n",
      "|    3|\n",
      "|    2|\n",
      "|    2|\n",
      "|    2|\n",
      "|    2|\n",
      "|    2|\n",
      "+-----+\n",
      "only showing top 20 rows\n",
      "\n"
     ]
    }
   ],
   "source": [
    "# It is very difficult to see above but there are duplicates\n",
    "\n",
    "df.groupBy(df.columns).count().filter(\"count > 1\").select(\"count\").show()"
   ]
  },
  {
   "cell_type": "code",
   "execution_count": 15,
   "metadata": {},
   "outputs": [
    {
     "name": "stdout",
     "output_type": "stream",
     "text": [
      "+-------------------+-----+\n",
      "|Category_clean     |count|\n",
      "+-------------------+-----+\n",
      "|family             |1972 |\n",
      "|game               |1144 |\n",
      "|tools              |843  |\n",
      "|medical            |463  |\n",
      "|business           |460  |\n",
      "|productivity       |424  |\n",
      "|personalization    |392  |\n",
      "|communication      |387  |\n",
      "|sports             |384  |\n",
      "|lifestyle          |382  |\n",
      "|finance            |366  |\n",
      "|health_and_fitness |340  |\n",
      "|photography        |335  |\n",
      "|social             |295  |\n",
      "|news_and_magazines |283  |\n",
      "|shopping           |260  |\n",
      "|travel_and_local   |258  |\n",
      "|dating             |234  |\n",
      "|books_and_reference|231  |\n",
      "|video_players      |175  |\n",
      "|education          |156  |\n",
      "|entertainment      |149  |\n",
      "|maps_and_navigation|136  |\n",
      "|food_and_drink     |127  |\n",
      "|house_and_home     |88   |\n",
      "|libraries_and_demo |85   |\n",
      "|auto_and_vehicles  |85   |\n",
      "|weather            |82   |\n",
      "|art_and_design     |65   |\n",
      "|events             |64   |\n",
      "|comics             |60   |\n",
      "|parenting          |60   |\n",
      "|beauty             |53   |\n",
      "|face               |1    |\n",
      "|traffic jams       |1    |\n",
      "|1.9                |1    |\n",
      "+-------------------+-----+\n",
      "\n"
     ]
    }
   ],
   "source": [
    "# Applying some small cleaning, I notice there is some garbage at the end but I don't pay attention \n",
    "# because I will LIMIT 10 or so to work with the data\n",
    "\n",
    "from pyspark.sql.functions import trim, lower\n",
    "\n",
    "df.groupBy(trim(lower(\"Category\")).alias(\"Category_clean\")) \\\n",
    "  .count() \\\n",
    "  .orderBy(\"count\", ascending=False) \\\n",
    "  .show(100, truncate=False)\n"
   ]
  },
  {
   "cell_type": "markdown",
   "metadata": {},
   "source": [
    "#### Problem Identification\n",
    "\n",
    "List of anomalies, prioritization and assumptions"
   ]
  },
  {
   "cell_type": "markdown",
   "metadata": {},
   "source": [
    "1) Eliminate Duplicates before cleaning\n",
    "2) After running describe, summary and confirmed by schema, there are a lot of string must be transform to integer\n",
    "3) After running select, there are few nulls to take care / very few from 10841 rows\n",
    "4) Is there a relationship between app size and rating? Those two variables are string, thay need to be converted to int\n",
    "5) Rating has non-numeric inputs to eliminate\n",
    "6) Eliminate Price = 0 (non-sense)\n",
    "7) Can we identify underperforming categories (low installs, low ratings)? Those two variables are string, thay need to be converted to int\n",
    "8) I notice ENTERTAINMENT is a category in the database but it is not in the list, so I need to apply trim and lower\n",
    "9) Applying some small cleaning, I notice there is some garbage at the end but I don't pay attention, I will LIMIT 10 or so to work with the data"
   ]
  },
  {
   "cell_type": "markdown",
   "metadata": {},
   "source": [
    "<div style=\"background-color:#fff5e6; padding:15px; border-radius:8px\">\n",
    "List of prompts used in data discovery\n",
    "\n",
    "1) Give me an example of function to identify outliers in pyspark\n",
    "2) Give me a way to identify Nulls, how many and where they are in my df with pysparks\n",
    "3) Installs:\tRemove commas and + signs. Example: \"1,000+\" → 1000.\n",
    "4) Size\tConvert \"14k\" → 0.014, \"19M\" → 19, \"Varies with device\" → null\n",
    "5) Price\tRemove $ symbol.\n",
    "6) Rating\tRemove or filter out non-numeric entries.\n",
    "7) I don't have product_id or something similar, how can I detect duplicates?\n",
    "8) from df.groupBy(*df.columns).count().filter(\"count > 1\").show(), show me the column 'count' / it was difficult to see\n",
    "9) df.groupBy(\"Category\").count().orderBy(\"count\", ascending=False).show() does not bring ENTERTAINMENT\n",
    "10) which column I need to transform to float or integer? root"
   ]
  },
  {
   "cell_type": "markdown",
   "metadata": {},
   "source": [
    "## Data Preparation & Validation"
   ]
  },
  {
   "cell_type": "markdown",
   "metadata": {},
   "source": [
    "| Column     | Transformation Suggestion                               |\n",
    "| ---------- | ------------------------------------------------------- |\n",
    "| `Size`     | Convert `\"k\"`/`\"M\"` → float MB                          |\n",
    "| `Rating`   | Cast to `float` after filtering bad values              |\n",
    "| `Installs` | `regexp_replace` commas and `+`, cast to `int`          |\n",
    "| `Price`    | (optional for advanced use) remove `$`, cast to `float` |\n",
    "| `Category` | Trim & lowercase                                        |\n",
    "                        \n",
    "\n",
    "*Source ChatGPT after my prompts"
   ]
  },
  {
   "cell_type": "code",
   "execution_count": 16,
   "metadata": {},
   "outputs": [
    {
     "name": "stdout",
     "output_type": "stream",
     "text": [
      "root\n",
      " |-- App: string (nullable = true)\n",
      " |-- Category: string (nullable = true)\n",
      " |-- Rating: string (nullable = true)\n",
      " |-- Reviews: string (nullable = true)\n",
      " |-- Size: string (nullable = true)\n",
      " |-- Installs: string (nullable = true)\n",
      " |-- Type: string (nullable = true)\n",
      " |-- Price: string (nullable = true)\n",
      " |-- Content Rating: string (nullable = true)\n",
      " |-- Genres: string (nullable = true)\n",
      " |-- Last Updated: string (nullable = true)\n",
      " |-- Current Ver: string (nullable = true)\n",
      " |-- Android Ver: string (nullable = true)\n",
      "\n"
     ]
    }
   ],
   "source": [
    "df.printSchema()"
   ]
  },
  {
   "cell_type": "code",
   "execution_count": 17,
   "metadata": {},
   "outputs": [
    {
     "data": {
      "text/plain": [
       "10841"
      ]
     },
     "execution_count": 17,
     "metadata": {},
     "output_type": "execute_result"
    }
   ],
   "source": [
    "# 1) Eliminate Duplicates\n",
    "df.count() # before eliminating"
   ]
  },
  {
   "cell_type": "code",
   "execution_count": 18,
   "metadata": {},
   "outputs": [
    {
     "data": {
      "text/plain": [
       "10358"
      ]
     },
     "execution_count": 18,
     "metadata": {},
     "output_type": "execute_result"
    }
   ],
   "source": [
    "df_cleaned = df.dropDuplicates()\n",
    "df_cleaned.count()"
   ]
  },
  {
   "cell_type": "code",
   "execution_count": 19,
   "metadata": {},
   "outputs": [
    {
     "data": {
      "text/plain": [
       "10839"
      ]
     },
     "execution_count": 19,
     "metadata": {},
     "output_type": "execute_result"
    }
   ],
   "source": [
    "# 2) Eliminate Nulls in columns\n",
    "df_cleaned = df.na.drop()\n",
    "df_cleaned.count()"
   ]
  },
  {
   "cell_type": "code",
   "execution_count": 20,
   "metadata": {},
   "outputs": [
    {
     "name": "stdout",
     "output_type": "stream",
     "text": [
      "root\n",
      " |-- App: string (nullable = true)\n",
      " |-- Category: string (nullable = true)\n",
      " |-- Rating: string (nullable = true)\n",
      " |-- Reviews: string (nullable = true)\n",
      " |-- Size: double (nullable = true)\n",
      " |-- Installs: string (nullable = true)\n",
      " |-- Type: string (nullable = true)\n",
      " |-- Price: string (nullable = true)\n",
      " |-- Content Rating: string (nullable = true)\n",
      " |-- Genres: string (nullable = true)\n",
      " |-- Last Updated: string (nullable = true)\n",
      " |-- Current Ver: string (nullable = true)\n",
      " |-- Android Ver: string (nullable = true)\n",
      "\n"
     ]
    }
   ],
   "source": [
    "# 3 Cleaning Size_MB\n",
    "df_cleaned = df_cleaned.withColumn(\"Size\", \n",
    "                                   when(col(\"Size\").contains(\"M\"), regexp_replace(\"Size\", \"M\", \"\").cast(\"float\"))\n",
    "                                   .when(col(\"Size\").contains(\"k\"), regexp_replace(\"Size\", \"k\", \"\").cast(\"float\") / 1024)\n",
    "                                   .otherwise(None))\n",
    "df_cleaned.printSchema()"
   ]
  },
  {
   "cell_type": "code",
   "execution_count": 21,
   "metadata": {},
   "outputs": [
    {
     "data": {
      "text/plain": [
       "10839"
      ]
     },
     "execution_count": 21,
     "metadata": {},
     "output_type": "execute_result"
    }
   ],
   "source": [
    "# 4 Clean and convert Installs\n",
    "df_cleaned = df_cleaned.withColumn(\"Installs\", regexp_replace(\"Installs\", \"[+,]\", \"\").cast(\"int\"))\n",
    "df_cleaned.count()"
   ]
  },
  {
   "cell_type": "code",
   "execution_count": 22,
   "metadata": {},
   "outputs": [
    {
     "data": {
      "text/plain": [
       "9363"
      ]
     },
     "execution_count": 22,
     "metadata": {},
     "output_type": "execute_result"
    }
   ],
   "source": [
    "# After trasnforming, let's drop those that are still a string\n",
    "df_cleaned = df_cleaned.filter(col(\"Rating\").rlike(\"^\\d+(\\.\\d+)?$\")) \\\n",
    "                       .withColumn(\"Rating_clean\", col(\"Rating\").cast(\"float\"))\n",
    "df_cleaned.count()"
   ]
  },
  {
   "cell_type": "code",
   "execution_count": 23,
   "metadata": {},
   "outputs": [
    {
     "data": {
      "text/plain": [
       "9363"
      ]
     },
     "execution_count": 23,
     "metadata": {},
     "output_type": "execute_result"
    }
   ],
   "source": [
    "# 5. Clean and convert Rating / Eliminate Nulls also\n",
    "df_cleaned = df_cleaned.withColumn(\"Rating\", col(\"Rating\").cast(\"float\")).filter(col(\"Rating\").isNotNull())       \n",
    "df_cleaned.count()"
   ]
  },
  {
   "cell_type": "code",
   "execution_count": 24,
   "metadata": {},
   "outputs": [
    {
     "data": {
      "text/plain": [
       "9363"
      ]
     },
     "execution_count": 24,
     "metadata": {},
     "output_type": "execute_result"
    }
   ],
   "source": [
    "# 6. Clean and convert Price / let's also drop those prices = 0\n",
    "# I decide to leave price cero and deal with that in Tableau because there are too many +8k \n",
    "#It looks most of them are Free games from the store\n",
    "\n",
    "df_cleaned = df_cleaned.withColumn(\"Price\", regexp_replace(\"Price\", \"\\\\$\", \"\").cast(\"float\"))\n",
    "df_cleaned.count()"
   ]
  },
  {
   "cell_type": "code",
   "execution_count": 25,
   "metadata": {},
   "outputs": [
    {
     "name": "stdout",
     "output_type": "stream",
     "text": [
      "root\n",
      " |-- App: string (nullable = true)\n",
      " |-- Category_clean: string (nullable = true)\n",
      " |-- Rating: float (nullable = true)\n",
      " |-- Reviews: string (nullable = true)\n",
      " |-- Size: double (nullable = true)\n",
      " |-- Installs: integer (nullable = true)\n",
      " |-- Type: string (nullable = true)\n",
      " |-- Price: float (nullable = true)\n",
      " |-- Content Rating: string (nullable = true)\n",
      " |-- Genres: string (nullable = true)\n",
      " |-- Last Updated: string (nullable = true)\n",
      " |-- Current Ver: string (nullable = true)\n",
      " |-- Android Ver: string (nullable = true)\n",
      " |-- Rating_clean: float (nullable = true)\n",
      "\n"
     ]
    }
   ],
   "source": [
    "# 7. Normalize Category (AND Rename)\n",
    "df_cleaned = df_cleaned.withColumn(\"Category\", lower(trim(col(\"Category\")))).withColumnRenamed(\"Category\", \"Category_clean\")\n",
    "df_cleaned.printSchema()"
   ]
  },
  {
   "cell_type": "markdown",
   "metadata": {},
   "source": [
    "#### SQL to create a file to Tableau"
   ]
  },
  {
   "cell_type": "code",
   "execution_count": 26,
   "metadata": {},
   "outputs": [],
   "source": [
    "df_cleaned.createOrReplaceTempView(\"sales_table\")"
   ]
  },
  {
   "cell_type": "code",
   "execution_count": 28,
   "metadata": {},
   "outputs": [
    {
     "name": "stdout",
     "output_type": "stream",
     "text": [
      "+--------------------+--------------+------+-----+---------+-----+--------------------+\n",
      "|                 App|Category_clean|Rating| Size| Installs|Price|              Genres|\n",
      "+--------------------+--------------+------+-----+---------+-----+--------------------+\n",
      "|Hungry Shark Evol...|          game|   4.5|100.0|100000000|  0.0|              Arcade|\n",
      "|The Walking Dead:...|          game|   4.0|100.0|  1000000|  0.0|              Action|\n",
      "|Navi Radiography Pro|       medical|   4.7|100.0|      500|15.99|             Medical|\n",
      "|Talking Babsy Bab...|     lifestyle|   4.0|100.0| 10000000|  0.0|Lifestyle;Pretend...|\n",
      "|Hungry Shark Evol...|          game|   4.5|100.0|100000000|  0.0|              Arcade|\n",
      "+--------------------+--------------+------+-----+---------+-----+--------------------+\n",
      "only showing top 5 rows\n",
      "\n"
     ]
    }
   ],
   "source": [
    "df_clean_SQL = spark.sql(\"\"\"\n",
    "    SELECT App, Category_clean, Rating, Size, Installs, Price, Genres\n",
    "    FROM sales_table        \n",
    "    ORDER BY Size DESC     \n",
    "\"\"\")\n",
    "\n",
    "df_clean_SQL.show(5)"
   ]
  },
  {
   "cell_type": "code",
   "execution_count": 29,
   "metadata": {
    "vscode": {
     "languageId": "plaintext"
    }
   },
   "outputs": [],
   "source": [
    "# Save cleaned data file for Tableau usage\n",
    "df_clean_SQL.write.option(\"header\", True).mode(\"overwrite\").csv(\"output/clean_apps_data\")"
   ]
  },
  {
   "cell_type": "code",
   "execution_count": 30,
   "metadata": {},
   "outputs": [
    {
     "data": {
      "text/plain": [
       "'/home/jovyan'"
      ]
     },
     "execution_count": 30,
     "metadata": {},
     "output_type": "execute_result"
    }
   ],
   "source": [
    "import os\n",
    "os.getcwd()"
   ]
  },
  {
   "cell_type": "markdown",
   "metadata": {},
   "source": [
    "<div style=\"background-color:#fff5e6; padding:15px; border-radius:8px\">\n",
    "List of prompts used in Data Preparation & Validation\n",
    "\n",
    "1) According to my business questions, what are the columns I need to check thay are clean.\n",
    "2) from pyspark.sql.functions import ( ... include here eliminate the old column\n",
    "3) df_cleaned = df_cleaned.withColumn(\"Rating\", col(\"Rating\").cast(\"float\")).filter(col(\"Rating\").isNotNull())\n",
    "   but it did not work because after converting, I need to drop string\n",
    "4) df_cleaned = df_cleaned.withColumn(\"Price\", regexp_replace(\"Price\", \"\\$\", \"\").cast(\"float\")) ... I want to eliminate price = cero\n",
    "5) I want to save this in a CSV file... using pyspark"
   ]
  },
  {
   "cell_type": "markdown",
   "metadata": {},
   "source": [
    "<div style=\"background-color:#fff5e6; padding:15px; border-radius:8px\">\n",
    "\n",
    "Summary of the prompts and actions to copy the CSV file from the container to my folder in windows\n",
    "\n",
    "To export my PySpark DataFrame from JupyterLab running in Docker and access it on my Windows machine, I first wrote the DataFrame to disk using:\n",
    "\n",
    "python\n",
    "Copy\n",
    "Edit\n",
    "df_clean_SQL.coalesce(1).write \\\n",
    "    .option(\"header\", True) \\\n",
    "    .mode(\"overwrite\") \\\n",
    "    .csv(\"/home/jovyan/output/clean_apps_data\")\n",
    "This saved the output as a folder inside the container at /home/jovyan/output/clean_apps_data.\n",
    "\n",
    "After verifying the file existed in that path, I exited the container shell and, from my Windows terminal, ran:\n",
    "bash\n",
    "Copy\n",
    "Edit\n",
    "docker cp peaceful_galois:/home/jovyan/output/clean_apps_data C:\\Users\\aleja\\pyspark-docker\n",
    "\n",
    "That copied the entire folder to my desired location on Windows. When I only wanted the CSV file itself, I used:\n",
    "bash\n",
    "Copy\n",
    "Edit\n",
    "docker cp peaceful_galois:/home/jovyan/output/clean_apps_data/part-00000-*.csv C:\\Users\\aleja\\pyspark-docker\\clean_apps_data.csv\n",
    "This gave me direct access to the PySpark output in a single .csv file I could open and use locally."
   ]
  },
  {
   "cell_type": "markdown",
   "metadata": {},
   "source": [
    "## Visual Analysis Development"
   ]
  },
  {
   "cell_type": "markdown",
   "metadata": {
    "vscode": {
     "languageId": "plaintext"
    }
   },
   "source": [
    "<div style=\"background-color:#fff5e6; padding:15px; border-radius:8px\">\n",
    "\n",
    "Now that I’ve exported the cleaned dataset containing the relevant columns (App, Category_clean, Rating, Size, Installs, Price, and Genres), my next step is to import this CSV into Tableau to build the visual analysis.\n",
    "\n",
    "In Tableau, I’ll focus on developing a minimum of six core visualizations, each addressing one of the following business questions:\n",
    "\n",
    "Is there a relationship between app size and rating?\n",
    "→ I’ll create a scatterplot of Size vs Rating, possibly colored by Category_clean or sized by Installs.\n",
    "\n",
    "Can we identify underperforming categories (low installs, low ratings)?\n",
    "→ I’ll use boxplots or heatmaps comparing Rating and Installs across Category_clean.\n",
    "\n",
    "What genres tend to perform better in terms of user engagement (ratings)?\n",
    "→ I’ll build bar charts or distribution plots to compare average Rating by Genres.\n",
    "\n",
    "As I design each visualization, I’ll document the choices I make—such as filtering, color use, aggregation logic, and layout—ensuring each chart supports one of the business questions clearly. This will lead to a final interactive dashboard that presents data-driven insights in a clear and accessible format."
   ]
  },
  {
   "cell_type": "markdown",
   "metadata": {},
   "source": [
    "### Link to Published Dashboard"
   ]
  },
  {
   "cell_type": "markdown",
   "metadata": {},
   "source": [
    "https://public.tableau.com/views/Week5-M8-LAB/Welcome?:language=en-US&publish=yes&:sid=&:redirect=auth&:display_count=n&:origin=viz_share_link"
   ]
  },
  {
   "cell_type": "markdown",
   "metadata": {},
   "source": [
    "## Conclusion"
   ]
  },
  {
   "cell_type": "markdown",
   "metadata": {},
   "source": [
    "<div style=\"background-color:#fff5e6; padding:15px; border-radius:8px\">\n",
    "\n",
    "1. Is there a relationship between app size and rating?\r\n",
    "No strong relationship was identified between app size and user rating. Both small and large apps tend to center around a 4.2 average rating, suggesting that size does not meaningfully influence perceived quality.\r\n",
    "2. Can we identify underperforming categories (low installs, low ratings)?\r\n",
    "Yes. The data highlights that certain app categories underperform:\r\n",
    "•\tLow ratings: Notably seen in Dating, Maps & Navigation, and Video Players.\r\n",
    "•\tLow installs: Common among Events, Beauty, and Parenting apps.\r\n",
    "These categories may benefit from improved user experience or marketing efforts.\r\n",
    "3. What genres tend to perform better in terms of user engagement (ratings)?\r\n",
    "The top-performing genres in terms of average rating are:\r\n",
    "•\tEducation, followed by Action and Sports.\r\n",
    "These genres consistently score higher on user satisfaction and egagement.\r\n"
   ]
  },
  {
   "cell_type": "code",
   "execution_count": null,
   "metadata": {},
   "outputs": [],
   "source": []
  }
 ],
 "metadata": {
  "kernelspec": {
   "display_name": "Python (base)",
   "language": "python",
   "name": "base"
  },
  "language_info": {
   "codemirror_mode": {
    "name": "ipython",
    "version": 3
   },
   "file_extension": ".py",
   "mimetype": "text/x-python",
   "name": "python",
   "nbconvert_exporter": "python",
   "pygments_lexer": "ipython3",
   "version": "3.11.11"
  }
 },
 "nbformat": 4,
 "nbformat_minor": 4
}
