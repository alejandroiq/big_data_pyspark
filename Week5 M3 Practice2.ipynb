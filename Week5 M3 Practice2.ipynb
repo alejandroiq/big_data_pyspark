{
 "cells": [
  {
   "cell_type": "markdown",
   "id": "ce7f46da-4bc5-43b4-82ee-0cb8e7cac639",
   "metadata": {},
   "source": [
    "# Practice 2"
   ]
  },
  {
   "cell_type": "code",
   "execution_count": 21,
   "id": "730254dd-934e-48b1-91d0-5b44ee958ca7",
   "metadata": {},
   "outputs": [],
   "source": [
    "# Sample data representing speed, engine temperature in Celsius, and fuel efficiency (mpg)\n",
    "sensor_data = [\n",
    "    [60, 75, 7.5], [70, 80, 8.2], [65, 77, 7.8], [80, 90, 6.9],\n",
    "    [50, 68, 9.1], [75, 88, 7.0], [62, 74, 7.7], [78, 85, 6.8]\n",
    "]"
   ]
  },
  {
   "cell_type": "code",
   "execution_count": 22,
   "id": "7b72992e-52f9-41f8-9b9c-c26526220e0d",
   "metadata": {},
   "outputs": [],
   "source": [
    "import pyspark\n",
    "sc = pyspark.SparkContext('local[*]', 'RDD practice')\n",
    "\n",
    "# numSlices=3: This tells Spark to divide the data into 3 partitions. Each partition is processed in parallel by the Spark engine.\n",
    "rdd = sc.parallelize(sensor_data, numSlices=3)"
   ]
  },
  {
   "cell_type": "code",
   "execution_count": 25,
   "id": "4e67946f-1c2f-4b13-b2b2-19048c5cb455",
   "metadata": {},
   "outputs": [
    {
     "data": {
      "text/plain": [
       "[[60, 167.0, 7.5],\n",
       " [70, 176.0, 8.2],\n",
       " [65, 170.6, 7.8],\n",
       " [80, 194.0, 6.9],\n",
       " [50, 154.4, 9.1],\n",
       " [75, 190.4, 7.0],\n",
       " [62, 165.2, 7.7],\n",
       " [78, 185.0, 6.8]]"
      ]
     },
     "execution_count": 25,
     "metadata": {},
     "output_type": "execute_result"
    }
   ],
   "source": [
    "# Step 3: Apply Transformations\n",
    "\n",
    "# Convert temperature to Fahrenheit and filter by speed > 65 MPH\n",
    "\n",
    "def celsius_to_fahrenheit(temp):\n",
    "    return (temp * 9/5) + 32\n",
    "\n",
    "rdd_converted = rdd.map(lambda x: [x[0], celsius_to_fahrenheit(x[1]), x[2]])\n",
    "rdd_converted.take(40)"
   ]
  },
  {
   "cell_type": "code",
   "execution_count": 24,
   "id": "b722a0d0-fe77-4537-bcce-ffcff4b42ca0",
   "metadata": {},
   "outputs": [
    {
     "data": {
      "text/plain": [
       "[[70, 176.0, 8.2], [80, 194.0, 6.9], [75, 190.4, 7.0], [78, 185.0, 6.8]]"
      ]
     },
     "execution_count": 24,
     "metadata": {},
     "output_type": "execute_result"
    }
   ],
   "source": [
    "filtered_rdd = rdd_converted.filter(lambda x: x[0] > 65)\n",
    "filtered_rdd.take(40)"
   ]
  },
  {
   "cell_type": "code",
   "execution_count": 26,
   "id": "926c533e-79e4-4216-bbd9-f40dcd8a44c7",
   "metadata": {},
   "outputs": [
    {
     "data": {
      "text/plain": [
       "[[80, 194.0, 6.9], [75, 190.4, 7.0], [78, 185.0, 6.8], [70, 176.0, 8.2]]"
      ]
     },
     "execution_count": 26,
     "metadata": {},
     "output_type": "execute_result"
    }
   ],
   "source": [
    "# Sorted by Engine Temperature\n",
    "\n",
    "filtered_rdd.sortBy(lambda x: x[1], ascending = False).collect()"
   ]
  },
  {
   "cell_type": "code",
   "execution_count": 27,
   "id": "bfb2ff58-ddf4-48da-8127-105c3e368386",
   "metadata": {},
   "outputs": [
    {
     "data": {
      "text/plain": [
       "[[70, 176.0, 8.2], [80, 194.0, 6.9], [75, 190.4, 7.0]]"
      ]
     },
     "execution_count": 27,
     "metadata": {},
     "output_type": "execute_result"
    }
   ],
   "source": [
    "# Step 4: Trigger Actions\n",
    "# Take a sample of the data to verify transformations in the order of the data\n",
    "\n",
    "sample_data = filtered_rdd.take(3)\n",
    "sample_data"
   ]
  },
  {
   "cell_type": "code",
   "execution_count": 18,
   "id": "c8697d6a-bc0a-4152-a841-116d3c90e59b",
   "metadata": {},
   "outputs": [
    {
     "name": "stdout",
     "output_type": "stream",
     "text": [
      "Average Fuel Efficiency of Trucks Going Over 65 MPH: 7.2250000000000005\n"
     ]
    }
   ],
   "source": [
    "# Step 5: Aggregate Data\n",
    "# Calculate total fuel efficiency using reduce\n",
    "\n",
    "# map means take the fuel efficiency (column [2]) reduce, add all the numbers, finally the average\n",
    "\n",
    "total_fuel_efficiency = filtered_rdd.map(lambda x: x[2]).reduce(lambda x, y: x + y)\n",
    "average_fuel_efficiency = total_fuel_efficiency / filtered_rdd.count()\n",
    "\n",
    "print(\"Average Fuel Efficiency of Trucks Going Over 65 MPH:\", average_fuel_efficiency)"
   ]
  },
  {
   "cell_type": "code",
   "execution_count": 28,
   "id": "a2bf41f8-3b3e-4080-82a7-c3b90e0d7586",
   "metadata": {},
   "outputs": [],
   "source": [
    "# Step 6: Stop the Spark Context\n",
    "sc.stop()"
   ]
  },
  {
   "cell_type": "code",
   "execution_count": null,
   "id": "c36f8347-4532-45ec-9c7c-9d174d4aa63c",
   "metadata": {},
   "outputs": [],
   "source": []
  }
 ],
 "metadata": {
  "kernelspec": {
   "display_name": "Python 3 (ipykernel)",
   "language": "python",
   "name": "python3"
  },
  "language_info": {
   "codemirror_mode": {
    "name": "ipython",
    "version": 3
   },
   "file_extension": ".py",
   "mimetype": "text/x-python",
   "name": "python",
   "nbconvert_exporter": "python",
   "pygments_lexer": "ipython3",
   "version": "3.11.6"
  }
 },
 "nbformat": 4,
 "nbformat_minor": 5
}
