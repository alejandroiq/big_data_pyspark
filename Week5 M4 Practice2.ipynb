{
 "cells": [
  {
   "cell_type": "markdown",
   "id": "8157d8c7-5394-4908-a98d-3141253f478d",
   "metadata": {},
   "source": [
    "# Integrating PySpark, Pandas, and SQL "
   ]
  },
  {
   "cell_type": "code",
   "execution_count": 1,
   "id": "108ea7d9-136c-4790-9671-7add2a58ede9",
   "metadata": {},
   "outputs": [],
   "source": [
    "from pyspark.sql import SparkSession\n",
    "import pandas as pd"
   ]
  },
  {
   "cell_type": "code",
   "execution_count": 2,
   "id": "905331eb-2338-44cb-9c19-22828656d7c4",
   "metadata": {},
   "outputs": [],
   "source": [
    "spark = SparkSession.builder.appName(\"PySpark_Pandas_SQL_Integration\").getOrCreate()"
   ]
  },
  {
   "cell_type": "code",
   "execution_count": 3,
   "id": "c8e68f3a-9975-4573-a9b1-33310979d8a7",
   "metadata": {},
   "outputs": [],
   "source": [
    "df_spark = spark.read.csv(\"sales2_data.csv\", header=True, inferSchema=True)"
   ]
  },
  {
   "cell_type": "code",
   "execution_count": 4,
   "id": "49271833-302c-456d-8f3f-812b5c4c0122",
   "metadata": {},
   "outputs": [
    {
     "name": "stdout",
     "output_type": "stream",
     "text": [
      "+-----------+-------------+--------------------+----------+---------------+-------------+-------+--------+----------+\n",
      "|customer_id|customer_name|      customer_email|product_id|   product_name|product_price|sale_id|quantity| sale_date|\n",
      "+-----------+-------------+--------------------+----------+---------------+-------------+-------+--------+----------+\n",
      "|       1001|   John Smith|john.smith@email.com|      1234|T-Shirt (Large)|        19.99|  98765|       2|2024-05-14|\n",
      "|       1002|     Jane Doe|  jane.doe@email.com|      4567|         Laptop|       899.99|  12345|       1|2024-05-13|\n",
      "|       1003|  Michael Lee|michael.lee@email...|      7890|     Coffee Mug|         7.99|  54321|       3|2024-05-12|\n",
      "|       1004|  Alice Jones|alice.jones@email...|      9871|     Headphones|        49.99|  78901|       2|2024-05-11|\n",
      "|       1005|    David Lee| david.lee@email.com|      2345|          Mouse|        14.99|  34567|       1|2024-05-10|\n",
      "+-----------+-------------+--------------------+----------+---------------+-------------+-------+--------+----------+\n",
      "only showing top 5 rows\n",
      "\n"
     ]
    }
   ],
   "source": [
    "df_spark.show(5)"
   ]
  },
  {
   "cell_type": "code",
   "execution_count": 5,
   "id": "39114bd1-7a77-4923-8625-673923f5d443",
   "metadata": {},
   "outputs": [
    {
     "name": "stdout",
     "output_type": "stream",
     "text": [
      "root\n",
      " |-- customer_id: integer (nullable = true)\n",
      " |-- customer_name: string (nullable = true)\n",
      " |-- customer_email: string (nullable = true)\n",
      " |-- product_id: integer (nullable = true)\n",
      " |-- product_name: string (nullable = true)\n",
      " |-- product_price: double (nullable = true)\n",
      " |-- sale_id: integer (nullable = true)\n",
      " |-- quantity: integer (nullable = true)\n",
      " |-- sale_date: date (nullable = true)\n",
      "\n"
     ]
    }
   ],
   "source": [
    "df_spark.printSchema()"
   ]
  },
  {
   "cell_type": "markdown",
   "id": "fd4b46d9-a25f-42ea-a318-0b4ea9c9e9ad",
   "metadata": {},
   "source": [
    "### Clean"
   ]
  },
  {
   "cell_type": "code",
   "execution_count": 6,
   "id": "1385d6eb-00f5-4818-93f9-721635d2e2f8",
   "metadata": {},
   "outputs": [],
   "source": [
    "from pyspark.sql.functions import col, trim, lower"
   ]
  },
  {
   "cell_type": "code",
   "execution_count": 7,
   "id": "9e6f90c1-41f1-49d4-8d3f-c9b020cd00d5",
   "metadata": {},
   "outputs": [
    {
     "data": {
      "text/plain": [
       "50"
      ]
     },
     "execution_count": 7,
     "metadata": {},
     "output_type": "execute_result"
    }
   ],
   "source": [
    "df_spark.count()"
   ]
  },
  {
   "cell_type": "code",
   "execution_count": 8,
   "id": "df5ce36b-907e-4e4d-b6a4-95a4320e47f4",
   "metadata": {},
   "outputs": [
    {
     "data": {
      "text/plain": [
       "50"
      ]
     },
     "execution_count": 8,
     "metadata": {},
     "output_type": "execute_result"
    }
   ],
   "source": [
    "# Eliminate Nulls\n",
    "\n",
    "cleaned_df = df_spark.filter(\n",
    "    col(\"customer_id\").isNotNull() &\n",
    "    col(\"product_id\").isNotNull() &\n",
    "    col(\"product_price\").isNotNull()\n",
    "    )\n",
    "\n",
    "cleaned_df.count()"
   ]
  },
  {
   "cell_type": "code",
   "execution_count": 9,
   "id": "39cd6e19-7a6d-4fcd-ad2b-e3130a9ff50a",
   "metadata": {},
   "outputs": [
    {
     "data": {
      "text/plain": [
       "41"
      ]
     },
     "execution_count": 9,
     "metadata": {},
     "output_type": "execute_result"
    }
   ],
   "source": [
    "# Eliminate duplicates\n",
    "\n",
    "cleaned_df = cleaned_df.dropDuplicates([\"sale_id\"])\n",
    "cleaned_df.count()"
   ]
  },
  {
   "cell_type": "code",
   "execution_count": 10,
   "id": "fb5a3e83-65f7-4b2f-9306-1b60a14769aa",
   "metadata": {},
   "outputs": [
    {
     "name": "stdout",
     "output_type": "stream",
     "text": [
      "+----------------+---------------+------------------+-----+\n",
      "|customer_id_null|product_id_null|product_price_null|count|\n",
      "+----------------+---------------+------------------+-----+\n",
      "|           false|          false|             false|   50|\n",
      "+----------------+---------------+------------------+-----+\n",
      "\n"
     ]
    }
   ],
   "source": [
    "# There are no nulls in customer_id, product_id or product_price\n",
    "\n",
    "df_spark.select(\n",
    "    col(\"customer_id\").isNull().alias(\"customer_id_null\"),\n",
    "    col(\"product_id\").isNull().alias(\"product_id_null\"),\n",
    "    col(\"product_price\").isNull().alias(\"product_price_null\")\n",
    ").groupBy(\"customer_id_null\", \"product_id_null\", \"product_price_null\").count().show()"
   ]
  },
  {
   "cell_type": "markdown",
   "id": "eab89ae4-124a-401e-af31-df0cd85a8bdb",
   "metadata": {},
   "source": [
    "### Register the Cleaned DataFrame as a Temporary SQL Table\n",
    "\n",
    "this will enable SQL queries"
   ]
  },
  {
   "cell_type": "code",
   "execution_count": 11,
   "id": "e3cd2f07-df1f-4291-97bf-caf33840b3ea",
   "metadata": {},
   "outputs": [],
   "source": [
    "cleaned_df.createOrReplaceTempView(\"sales_table\")"
   ]
  },
  {
   "cell_type": "code",
   "execution_count": 16,
   "id": "56d33f2a-0b46-40ba-9c57-6074bcc73d49",
   "metadata": {},
   "outputs": [
    {
     "name": "stdout",
     "output_type": "stream",
     "text": [
      "+--------------+-------------+\n",
      "|  product_name|total_revenue|\n",
      "+--------------+-------------+\n",
      "|Gaming Headset|        99.99|\n",
      "|  Gaming Mouse|        99.98|\n",
      "|     Desk Lamp|        99.96|\n",
      "|Desk Organizer|        59.96|\n",
      "+--------------+-------------+\n",
      "\n"
     ]
    }
   ],
   "source": [
    "# Run an SQL query to calculate total sales revenue per product\n",
    "\n",
    "sales_summary = spark.sql(\"\"\"\n",
    "    SELECT product_name, SUM(product_price * quantity) AS total_revenue\n",
    "    FROM sales_table\n",
    "    WHERE product_name LIKE 'Gaming%' OR product_name LIKE '%Desk%'\n",
    "    GROUP BY product_name\n",
    "    ORDER BY total_revenue DESC\n",
    "    LIMIT 5\n",
    "\"\"\")\n",
    "\n",
    "# Display the result\n",
    "sales_summary.show()"
   ]
  },
  {
   "cell_type": "code",
   "execution_count": 17,
   "id": "63e66e7f-a270-429f-8d84-f572d312b83b",
   "metadata": {},
   "outputs": [
    {
     "data": {
      "text/plain": [
       "<Axes: xlabel='product_name'>"
      ]
     },
     "execution_count": 17,
     "metadata": {},
     "output_type": "execute_result"
    },
    {
     "data": {
      "image/png": "[encoded data removed]",
      "text/plain": [
       "<Figure size 640x480 with 1 Axes>"
      ]
     },
     "metadata": {},
     "output_type": "display_data"
    }
   ],
   "source": [
    "# Plot\n",
    "sales_summary.toPandas().plot(x=\"product_name\", y=\"total_revenue\", kind=\"bar\", rot=0)"
   ]
  },
  {
   "cell_type": "markdown",
   "id": "42a21b9e-2da9-484d-8eb0-438b5269f748",
   "metadata": {},
   "source": [
    "### Identify top 3 Customer by total spending"
   ]
  },
  {
   "cell_type": "code",
   "execution_count": 23,
   "id": "4e154b40-fbdd-44b6-b081-5d824a52c256",
   "metadata": {},
   "outputs": [
    {
     "name": "stdout",
     "output_type": "stream",
     "text": [
      "+-------------+-------------+\n",
      "|customer_name|total_revenue|\n",
      "+-------------+-------------+\n",
      "|     Jane Doe|       899.99|\n",
      "|  Ryan Walker|       599.98|\n",
      "|Sophia Taylor|       499.98|\n",
      "+-------------+-------------+\n",
      "\n"
     ]
    }
   ],
   "source": [
    "# Run an SQL query to calculate total sales revenue per product\n",
    "\n",
    "top_3_cust = spark.sql(\"\"\"\n",
    "    SELECT customer_name, SUM(product_price * quantity) AS total_revenue\n",
    "    FROM sales_table    \n",
    "    GROUP BY customer_name\n",
    "    ORDER BY total_revenue DESC\n",
    "    LIMIT 3\n",
    "\"\"\")\n",
    "\n",
    "# Display the result\n",
    "top_3_cust.show()"
   ]
  },
  {
   "cell_type": "markdown",
   "id": "722d99d4-7745-44ff-af18-71c6bed310ce",
   "metadata": {},
   "source": [
    "### Average revenue per sale for each product."
   ]
  },
  {
   "cell_type": "code",
   "execution_count": 25,
   "id": "7110b6e7-6b04-4331-93f0-364f65c19e5d",
   "metadata": {},
   "outputs": [
    {
     "name": "stdout",
     "output_type": "stream",
     "text": [
      "+-------------------+------------------+\n",
      "|       product_name|       avg_revenue|\n",
      "+-------------------+------------------+\n",
      "|             Laptop|            899.99|\n",
      "|        Camera Lens|           449.985|\n",
      "|         Smartwatch|            399.98|\n",
      "|             Tablet|           374.985|\n",
      "|          Projector|            349.99|\n",
      "|              Watch|           299.985|\n",
      "|       Air Purifier|           194.985|\n",
      "|Wireless Headphones|            149.98|\n",
      "|           Backpack|           124.975|\n",
      "|     Gaming Headset|             99.99|\n",
      "|       Gaming Mouse|             99.98|\n",
      "|         Headphones|             99.98|\n",
      "|   Wireless Speaker|             79.99|\n",
      "|    Fitness Tracker|            59.985|\n",
      "|           Yoga Mat|            52.485|\n",
      "|          Desk Lamp|             49.98|\n",
      "|   Portable Charger|49.974999999999994|\n",
      "|     Protein Powder|              49.9|\n",
      "|    T-Shirt (Large)|             39.98|\n",
      "|           Notebook|             39.96|\n",
      "+-------------------+------------------+\n",
      "only showing top 20 rows\n",
      "\n"
     ]
    }
   ],
   "source": [
    "sales_avg = spark.sql(\"\"\"\n",
    "    SELECT product_name, AVG(product_price * quantity) AS avg_revenue\n",
    "    FROM sales_table    \n",
    "    GROUP BY product_name\n",
    "    ORDER BY avg_revenue DESC    \n",
    "\"\"\")\n",
    "\n",
    "# Display the result\n",
    "sales_avg.show()"
   ]
  },
  {
   "cell_type": "markdown",
   "id": "063b2f20-ebbe-4e54-ad10-771af545b5b6",
   "metadata": {},
   "source": [
    "### Select the top 10 products based on average revenue per sale from the results above"
   ]
  },
  {
   "cell_type": "code",
   "execution_count": 35,
   "id": "c667c343-2f21-42c5-b705-85c677f35ec4",
   "metadata": {},
   "outputs": [
    {
     "name": "stdout",
     "output_type": "stream",
     "text": [
      "+-------------------+-----------+\n",
      "|       product_name|avg_revenue|\n",
      "+-------------------+-----------+\n",
      "|             Laptop|     899.99|\n",
      "|        Camera Lens|    449.985|\n",
      "|         Smartwatch|     399.98|\n",
      "|             Tablet|    374.985|\n",
      "|          Projector|     349.99|\n",
      "|              Watch|    299.985|\n",
      "|       Air Purifier|    194.985|\n",
      "|Wireless Headphones|     149.98|\n",
      "|           Backpack|    124.975|\n",
      "|     Gaming Headset|      99.99|\n",
      "+-------------------+-----------+\n",
      "\n"
     ]
    }
   ],
   "source": [
    "top_10 = sales_avg.limit(10)\n",
    "top_10.show()"
   ]
  },
  {
   "cell_type": "code",
   "execution_count": 39,
   "id": "606426a6-f84b-4737-97f3-3837190d8387",
   "metadata": {},
   "outputs": [
    {
     "data": {
      "text/plain": [
       "<Axes: xlabel='product_name'>"
      ]
     },
     "execution_count": 39,
     "metadata": {},
     "output_type": "execute_result"
    },
    {
     "data": {
      "image/png": "[encoded data removed]",
      "text/plain": [
       "<Figure size 640x480 with 1 Axes>"
      ]
     },
     "metadata": {},
     "output_type": "display_data"
    }
   ],
   "source": [
    "top_10.toPandas().plot(x=\"product_name\", y=\"avg_revenue\", kind=\"bar\", rot=90)"
   ]
  },
  {
   "cell_type": "code",
   "execution_count": 45,
   "id": "11b2de01-7a38-48f1-9148-5be2038b242d",
   "metadata": {},
   "outputs": [
    {
     "name": "stdout",
     "output_type": "stream",
     "text": [
      "+----------------+---+\n",
      "|    product_name|tot|\n",
      "+----------------+---+\n",
      "|      Travel Mug|  6|\n",
      "|Portable Charger|  5|\n",
      "|        Backpack|  5|\n",
      "+----------------+---+\n",
      "\n"
     ]
    }
   ],
   "source": [
    "popular_pro = spark.sql(\"\"\"\n",
    "    SELECT product_name, SUM(quantity) as tot\n",
    "    FROM sales_table    \n",
    "    GROUP BY product_name\n",
    "    ORDER BY tot DESC \n",
    "    LIMIT 3\n",
    "\"\"\")\n",
    "\n",
    "popular_pro.show()"
   ]
  },
  {
   "cell_type": "code",
   "execution_count": 47,
   "id": "b31730b5-a139-456a-8dc7-c43e55b31a9e",
   "metadata": {},
   "outputs": [
    {
     "data": {
      "text/plain": [
       "<Axes: xlabel='product_name'>"
      ]
     },
     "execution_count": 47,
     "metadata": {},
     "output_type": "execute_result"
    },
    {
     "data": {
      "image/png": "[encoded data removed]",
      "text/plain": [
       "<Figure size 640x480 with 1 Axes>"
      ]
     },
     "metadata": {},
     "output_type": "display_data"
    }
   ],
   "source": [
    "popular_pro.toPandas().plot(x=\"product_name\", y=\"tot\", kind=\"bar\", rot=0)"
   ]
  },
  {
   "cell_type": "code",
   "execution_count": null,
   "id": "39363d44-a5e2-4522-9b6f-cb2345ea6e02",
   "metadata": {},
   "outputs": [],
   "source": []
  }
 ],
 "metadata": {
  "kernelspec": {
   "display_name": "Python 3 (ipykernel)",
   "language": "python",
   "name": "python3"
  },
  "language_info": {
   "codemirror_mode": {
    "name": "ipython",
    "version": 3
   },
   "file_extension": ".py",
   "mimetype": "text/x-python",
   "name": "python",
   "nbconvert_exporter": "python",
   "pygments_lexer": "ipython3",
   "version": "3.11.6"
  }
 },
 "nbformat": 4,
 "nbformat_minor": 5
}
